{
 "cells": [
  {
   "cell_type": "markdown",
   "metadata": {},
   "source": [
    "# Predicting User Satisfaction with Amazon Alexa\n",
    "## Final Project for Machine Learning INFO 656 at Pratt Institute\n",
    "### By Elena Korshakova and Diedre Brown\n",
    "This project aims to analyze the reviews and ratings of Amazon Alexa devices from 2017 (as the training data) and 2018 (as the test data) to develop an algorithm to predict star ratings based on user reviews. Through the process, we aim to determine if star ratings and an end-to-end sentiment analysis of user review comments from the 2017 dataset, we can predict with accuracy, the star ratings of 2018. If successful, our findings have the potential to provide tech companies with a summary of user preferences and top criteria or the development of future products, as well as, assist in predicting user reactions to recently implemented features based on data collected from previous reviews of similar features. \n"
   ]
  },
  {
   "cell_type": "markdown",
   "metadata": {},
   "source": [
    "## Import Libraries"
   ]
  },
  {
   "cell_type": "code",
   "execution_count": 8,
   "metadata": {},
   "outputs": [],
   "source": [
    "import pandas as pd\n",
    "import numpy as np\n",
    "import matplotlib.pyplot as plt\n",
    "import seaborn as sns\n",
    "import itertools\n",
    "\n",
    "import sklearn\n",
    "sklearn.__version__>=\"0.20\"\n",
    "from sklearn import linear_model\n",
    "from sklearn.preprocessing import LabelEncoder\n",
    "from sklearn.preprocessing import StandardScaler, MinMaxScaler\n",
    "from sklearn.model_selection import train_test_split\n",
    "from sklearn import metrics\n",
    "from sklearn.linear_model import LinearRegression,ElasticNetCV\n",
    "from sklearn.linear_model import LogisticRegression\n",
    "from sklearn.ensemble import RandomForestClassifier\n",
    "from sklearn.pipeline import Pipeline\n",
    "from sklearn.decomposition import LatentDirichletAllocation\n",
    "from sklearn.feature_extraction.text import CountVectorizer"
   ]
  },
  {
   "cell_type": "code",
   "execution_count": 5,
   "metadata": {},
   "outputs": [
    {
     "name": "stderr",
     "output_type": "stream",
     "text": [
      "[nltk_data] Downloading package words to\n",
      "[nltk_data]     /Users/diedrebrown/nltk_data...\n",
      "[nltk_data]   Package words is already up-to-date!\n"
     ]
    },
    {
     "data": {
      "text/plain": [
       "True"
      ]
     },
     "execution_count": 5,
     "metadata": {},
     "output_type": "execute_result"
    }
   ],
   "source": [
    "import nltk\n",
    "nltk.download(\"words\")"
   ]
  },
  {
   "cell_type": "code",
   "execution_count": 4,
   "metadata": {},
   "outputs": [
    {
     "name": "stdout",
     "output_type": "stream",
     "text": [
      "Collecting spacy\n",
      "  Downloading spacy-2.3.2-cp37-cp37m-macosx_10_9_x86_64.whl (10.0 MB)\n",
      "\u001b[K     |████████████████████████████████| 10.0 MB 9.3 MB/s eta 0:00:01\n",
      "\u001b[?25hCollecting catalogue<1.1.0,>=0.0.7\n",
      "  Downloading catalogue-1.0.0-py2.py3-none-any.whl (7.7 kB)\n",
      "Collecting wasabi<1.1.0,>=0.4.0\n",
      "  Downloading wasabi-0.8.0-py3-none-any.whl (23 kB)\n",
      "Collecting thinc==7.4.1\n",
      "  Downloading thinc-7.4.1-cp37-cp37m-macosx_10_9_x86_64.whl (2.1 MB)\n",
      "\u001b[K     |████████████████████████████████| 2.1 MB 1.4 MB/s eta 0:00:01\n",
      "\u001b[?25hCollecting cymem<2.1.0,>=2.0.2\n",
      "  Downloading cymem-2.0.4-cp37-cp37m-macosx_10_9_x86_64.whl (31 kB)\n",
      "Collecting plac<1.2.0,>=0.9.6\n",
      "  Downloading plac-1.1.3-py2.py3-none-any.whl (20 kB)\n",
      "Collecting srsly<1.1.0,>=1.0.2\n",
      "  Downloading srsly-1.0.4-cp37-cp37m-macosx_10_9_x86_64.whl (286 kB)\n",
      "\u001b[K     |████████████████████████████████| 286 kB 7.3 MB/s eta 0:00:01\n",
      "\u001b[?25hRequirement already satisfied: setuptools in /Users/diedrebrown/opt/anaconda3/lib/python3.7/site-packages (from spacy) (46.0.0.post20200309)\n",
      "Requirement already satisfied: numpy>=1.15.0 in /Users/diedrebrown/opt/anaconda3/lib/python3.7/site-packages (from spacy) (1.18.1)\n",
      "Collecting murmurhash<1.1.0,>=0.28.0\n",
      "  Downloading murmurhash-1.0.4-cp37-cp37m-macosx_10_9_x86_64.whl (18 kB)\n",
      "Collecting preshed<3.1.0,>=3.0.2\n",
      "  Downloading preshed-3.0.4-cp37-cp37m-macosx_10_9_x86_64.whl (262 kB)\n",
      "\u001b[K     |████████████████████████████████| 262 kB 9.8 MB/s eta 0:00:01\n",
      "\u001b[?25hRequirement already satisfied: tqdm<5.0.0,>=4.38.0 in /Users/diedrebrown/opt/anaconda3/lib/python3.7/site-packages (from spacy) (4.42.1)\n",
      "Requirement already satisfied: requests<3.0.0,>=2.13.0 in /Users/diedrebrown/opt/anaconda3/lib/python3.7/site-packages (from spacy) (2.24.0)\n",
      "Collecting blis<0.5.0,>=0.4.0\n",
      "  Downloading blis-0.4.1-cp37-cp37m-macosx_10_6_intel.macosx_10_9_intel.macosx_10_9_x86_64.macosx_10_10_intel.macosx_10_10_x86_64.whl (4.0 MB)\n",
      "\u001b[K     |████████████████████████████████| 4.0 MB 878 kB/s eta 0:00:01\n",
      "\u001b[?25hRequirement already satisfied: importlib-metadata>=0.20; python_version < \"3.8\" in /Users/diedrebrown/opt/anaconda3/lib/python3.7/site-packages (from catalogue<1.1.0,>=0.0.7->spacy) (1.5.0)\n",
      "Requirement already satisfied: idna<3,>=2.5 in /Users/diedrebrown/opt/anaconda3/lib/python3.7/site-packages (from requests<3.0.0,>=2.13.0->spacy) (2.8)\n",
      "Requirement already satisfied: urllib3!=1.25.0,!=1.25.1,<1.26,>=1.21.1 in /Users/diedrebrown/opt/anaconda3/lib/python3.7/site-packages (from requests<3.0.0,>=2.13.0->spacy) (1.25.8)\n",
      "Requirement already satisfied: chardet<4,>=3.0.2 in /Users/diedrebrown/opt/anaconda3/lib/python3.7/site-packages (from requests<3.0.0,>=2.13.0->spacy) (3.0.4)\n",
      "Requirement already satisfied: certifi>=2017.4.17 in /Users/diedrebrown/opt/anaconda3/lib/python3.7/site-packages (from requests<3.0.0,>=2.13.0->spacy) (2019.11.28)\n",
      "Requirement already satisfied: zipp>=0.5 in /Users/diedrebrown/opt/anaconda3/lib/python3.7/site-packages (from importlib-metadata>=0.20; python_version < \"3.8\"->catalogue<1.1.0,>=0.0.7->spacy) (2.2.0)\n",
      "Installing collected packages: catalogue, wasabi, cymem, plac, murmurhash, preshed, blis, srsly, thinc, spacy\n",
      "Successfully installed blis-0.4.1 catalogue-1.0.0 cymem-2.0.4 murmurhash-1.0.4 plac-1.1.3 preshed-3.0.4 spacy-2.3.2 srsly-1.0.4 thinc-7.4.1 wasabi-0.8.0\n",
      "Note: you may need to restart the kernel to use updated packages.\n"
     ]
    }
   ],
   "source": [
    "# pip install spacy"
   ]
  },
  {
   "cell_type": "code",
   "execution_count": 6,
   "metadata": {},
   "outputs": [],
   "source": [
    "import string\n",
    "import spacy\n",
    "#spacy_en = spacy.load(\"en_core_web_sm\")"
   ]
  },
  {
   "cell_type": "code",
   "execution_count": 7,
   "metadata": {},
   "outputs": [],
   "source": [
    "from spacy.lang.en import English\n",
    "nlp = English() # use directly"
   ]
  },
  {
   "cell_type": "code",
   "execution_count": 4,
   "metadata": {},
   "outputs": [],
   "source": [
    "%matplotlib inline\n",
    "# makes inline plots to have better quality\n",
    "%config InlineBackend.figure_format = 'svg'\n",
    "# Set the default style\n",
    "plt.style.use(\"seaborn\")"
   ]
  },
  {
   "cell_type": "code",
   "execution_count": 5,
   "metadata": {},
   "outputs": [],
   "source": [
    "pd.set_option('mode.chained_assignment', None)"
   ]
  },
  {
   "cell_type": "code",
   "execution_count": 11,
   "metadata": {},
   "outputs": [],
   "source": [
    "# import the logging library to expose the interface that the application code directly uses.\n",
    "import logging\n",
    "# logging levels\n",
    "# CRITICAL (50) - A serious error, indicating that the program itself may be unable to continue running.\n",
    "# ERROR (40) - Due to a more serious problem, the software has not been able to perform some function.\n",
    "# WARNING (30) - An indication that something unexpected happened, or indicative of some problem in the near future (e.g. 'disk space low'). The software is still working as expected.\n",
    "# INFO (20) - Confirmation that things are working as expected.\n",
    "# DEBUG (10) - Detailed information, typically of interest only when diagnosing problems.\n",
    "# NOTSET (0) - "
   ]
  },
  {
   "cell_type": "code",
   "execution_count": 12,
   "metadata": {},
   "outputs": [
    {
     "name": "stderr",
     "output_type": "stream",
     "text": [
      "2020-11-16 09:45:57,171 - INFO - initial log\n"
     ]
    }
   ],
   "source": [
    "logFormatter = '%(asctime)s - %(levelname)s - %(message)s' # logging formatted as time, level name, and message\n",
    "logging.basicConfig(format=logFormatter, level=logging.INFO) # sets the default logging level, and the log formatting\n",
    "logger = logging.getLogger(__name__) # \n",
    "# run first log\n",
    "logger.info(\"initial log\")"
   ]
  },
  {
   "cell_type": "markdown",
   "metadata": {},
   "source": [
    "## Loading the data"
   ]
  },
  {
   "cell_type": "markdown",
   "metadata": {},
   "source": [
    "<b>Training dataset: [Amazon Echo Dot 2 Reviews Dataset](https://www.kaggle.com/PromptCloudHQ/amazon-echo-dot-2-reviews-dataset)</b>\n",
    "\n",
    "\n",
    "<b>Test dataset: [Amazon Alexa Reviews](https://www.kaggle.com/sid321axn/amazon-alexa-reviews)</b>"
   ]
  },
  {
   "cell_type": "code",
   "execution_count": 9,
   "metadata": {},
   "outputs": [],
   "source": [
    "df_train_raw = pd.read_csv(\"data/reviews_2017.csv\")\n",
    "df_test_raw = pd.read_csv(\"data/reviews_2018.tsv\", sep = \"\\t\")"
   ]
  },
  {
   "cell_type": "markdown",
   "metadata": {},
   "source": [
    "## Exploratory Data Analysis of Each Dataset"
   ]
  },
  {
   "cell_type": "markdown",
   "metadata": {},
   "source": [
    "### Training Data Amazon Echo Dot2 Reviews "
   ]
  },
  {
   "cell_type": "code",
   "execution_count": 20,
   "metadata": {},
   "outputs": [
    {
     "data": {
      "text/html": [
       "<div>\n",
       "<style scoped>\n",
       "    .dataframe tbody tr th:only-of-type {\n",
       "        vertical-align: middle;\n",
       "    }\n",
       "\n",
       "    .dataframe tbody tr th {\n",
       "        vertical-align: top;\n",
       "    }\n",
       "\n",
       "    .dataframe thead th {\n",
       "        text-align: right;\n",
       "    }\n",
       "</style>\n",
       "<table border=\"1\" class=\"dataframe\">\n",
       "  <thead>\n",
       "    <tr style=\"text-align: right;\">\n",
       "      <th></th>\n",
       "      <th>Pageurl</th>\n",
       "      <th>Title</th>\n",
       "      <th>Review Text</th>\n",
       "      <th>Review Color</th>\n",
       "      <th>User Verified</th>\n",
       "      <th>Review Date</th>\n",
       "      <th>Review Useful Count</th>\n",
       "      <th>Configuration Text</th>\n",
       "      <th>Rating</th>\n",
       "      <th>Declaration Text</th>\n",
       "    </tr>\n",
       "  </thead>\n",
       "  <tbody>\n",
       "    <tr>\n",
       "      <th>0</th>\n",
       "      <td>https://www.amazon.com/All-New-Amazon-Echo-Dot...</td>\n",
       "      <td>Three Stars</td>\n",
       "      <td>Not great speakers</td>\n",
       "      <td>Black</td>\n",
       "      <td>Verified Purchase</td>\n",
       "      <td>10/3/2017</td>\n",
       "      <td>NaN</td>\n",
       "      <td>Echo Dot</td>\n",
       "      <td>3</td>\n",
       "      <td>NaN</td>\n",
       "    </tr>\n",
       "    <tr>\n",
       "      <th>1</th>\n",
       "      <td>https://www.amazon.com/All-New-Amazon-Echo-Dot...</td>\n",
       "      <td>Four Stars</td>\n",
       "      <td>Great little gagit</td>\n",
       "      <td>White</td>\n",
       "      <td>Verified Purchase</td>\n",
       "      <td>9/26/2017</td>\n",
       "      <td>NaN</td>\n",
       "      <td>Echo Dot</td>\n",
       "      <td>4</td>\n",
       "      <td>NaN</td>\n",
       "    </tr>\n",
       "    <tr>\n",
       "      <th>2</th>\n",
       "      <td>https://www.amazon.com/All-New-Amazon-Echo-Dot...</td>\n",
       "      <td>Awesome!</td>\n",
       "      <td>Awesome 👏🏽</td>\n",
       "      <td>White</td>\n",
       "      <td>Verified Purchase</td>\n",
       "      <td>9/8/2017</td>\n",
       "      <td>NaN</td>\n",
       "      <td>Echo Dot</td>\n",
       "      <td>5</td>\n",
       "      <td>NaN</td>\n",
       "    </tr>\n",
       "    <tr>\n",
       "      <th>3</th>\n",
       "      <td>https://www.amazon.com/All-New-Amazon-Echo-Dot...</td>\n",
       "      <td>Five Stars</td>\n",
       "      <td>Love my Echo</td>\n",
       "      <td>Black</td>\n",
       "      <td>Verified Purchase</td>\n",
       "      <td>10/19/2017</td>\n",
       "      <td>NaN</td>\n",
       "      <td>Echo Dot</td>\n",
       "      <td>5</td>\n",
       "      <td>NaN</td>\n",
       "    </tr>\n",
       "    <tr>\n",
       "      <th>4</th>\n",
       "      <td>https://www.amazon.com/All-New-Amazon-Echo-Dot...</td>\n",
       "      <td>Five Stars</td>\n",
       "      <td>Great device</td>\n",
       "      <td>Black</td>\n",
       "      <td>Verified Purchase</td>\n",
       "      <td>9/17/2017</td>\n",
       "      <td>NaN</td>\n",
       "      <td>Echo Dot</td>\n",
       "      <td>5</td>\n",
       "      <td>NaN</td>\n",
       "    </tr>\n",
       "  </tbody>\n",
       "</table>\n",
       "</div>"
      ],
      "text/plain": [
       "                                             Pageurl        Title  \\\n",
       "0  https://www.amazon.com/All-New-Amazon-Echo-Dot...  Three Stars   \n",
       "1  https://www.amazon.com/All-New-Amazon-Echo-Dot...   Four Stars   \n",
       "2  https://www.amazon.com/All-New-Amazon-Echo-Dot...     Awesome!   \n",
       "3  https://www.amazon.com/All-New-Amazon-Echo-Dot...   Five Stars   \n",
       "4  https://www.amazon.com/All-New-Amazon-Echo-Dot...   Five Stars   \n",
       "\n",
       "          Review Text Review Color      User Verified Review Date  \\\n",
       "0  Not great speakers        Black  Verified Purchase   10/3/2017   \n",
       "1  Great little gagit        White  Verified Purchase   9/26/2017   \n",
       "2          Awesome 👏🏽        White  Verified Purchase    9/8/2017   \n",
       "3        Love my Echo        Black  Verified Purchase  10/19/2017   \n",
       "4        Great device        Black  Verified Purchase   9/17/2017   \n",
       "\n",
       "   Review Useful Count Configuration Text  Rating Declaration Text  \n",
       "0                  NaN           Echo Dot       3              NaN  \n",
       "1                  NaN           Echo Dot       4              NaN  \n",
       "2                  NaN           Echo Dot       5              NaN  \n",
       "3                  NaN           Echo Dot       5              NaN  \n",
       "4                  NaN           Echo Dot       5              NaN  "
      ]
     },
     "execution_count": 20,
     "metadata": {},
     "output_type": "execute_result"
    }
   ],
   "source": [
    "df_train_raw.head()"
   ]
  },
  {
   "cell_type": "code",
   "execution_count": 21,
   "metadata": {},
   "outputs": [
    {
     "data": {
      "text/plain": [
       "(6855, 10)"
      ]
     },
     "execution_count": 21,
     "metadata": {},
     "output_type": "execute_result"
    }
   ],
   "source": [
    "df_train_raw.shape"
   ]
  },
  {
   "cell_type": "code",
   "execution_count": 22,
   "metadata": {},
   "outputs": [],
   "source": [
    "# Place raw data for use into a separate working dataframe with simplified column names\n",
    "df_train = df_train_raw[['Review Text', 'Rating']]\n",
    "df_train.columns = ['review', 'rating']"
   ]
  },
  {
   "cell_type": "code",
   "execution_count": 23,
   "metadata": {},
   "outputs": [
    {
     "data": {
      "text/html": [
       "<div>\n",
       "<style scoped>\n",
       "    .dataframe tbody tr th:only-of-type {\n",
       "        vertical-align: middle;\n",
       "    }\n",
       "\n",
       "    .dataframe tbody tr th {\n",
       "        vertical-align: top;\n",
       "    }\n",
       "\n",
       "    .dataframe thead th {\n",
       "        text-align: right;\n",
       "    }\n",
       "</style>\n",
       "<table border=\"1\" class=\"dataframe\">\n",
       "  <thead>\n",
       "    <tr style=\"text-align: right;\">\n",
       "      <th></th>\n",
       "      <th>review</th>\n",
       "      <th>rating</th>\n",
       "    </tr>\n",
       "  </thead>\n",
       "  <tbody>\n",
       "    <tr>\n",
       "      <th>0</th>\n",
       "      <td>Not great speakers</td>\n",
       "      <td>3</td>\n",
       "    </tr>\n",
       "    <tr>\n",
       "      <th>1</th>\n",
       "      <td>Great little gagit</td>\n",
       "      <td>4</td>\n",
       "    </tr>\n",
       "    <tr>\n",
       "      <th>2</th>\n",
       "      <td>Awesome 👏🏽</td>\n",
       "      <td>5</td>\n",
       "    </tr>\n",
       "    <tr>\n",
       "      <th>3</th>\n",
       "      <td>Love my Echo</td>\n",
       "      <td>5</td>\n",
       "    </tr>\n",
       "    <tr>\n",
       "      <th>4</th>\n",
       "      <td>Great device</td>\n",
       "      <td>5</td>\n",
       "    </tr>\n",
       "  </tbody>\n",
       "</table>\n",
       "</div>"
      ],
      "text/plain": [
       "               review  rating\n",
       "0  Not great speakers       3\n",
       "1  Great little gagit       4\n",
       "2          Awesome 👏🏽       5\n",
       "3        Love my Echo       5\n",
       "4        Great device       5"
      ]
     },
     "execution_count": 23,
     "metadata": {},
     "output_type": "execute_result"
    }
   ],
   "source": [
    "df_train.head()"
   ]
  },
  {
   "cell_type": "code",
   "execution_count": 24,
   "metadata": {},
   "outputs": [
    {
     "data": {
      "text/plain": [
       "(6855, 2)"
      ]
     },
     "execution_count": 24,
     "metadata": {},
     "output_type": "execute_result"
    }
   ],
   "source": [
    "df_train.shape"
   ]
  },
  {
   "cell_type": "code",
   "execution_count": 25,
   "metadata": {},
   "outputs": [
    {
     "data": {
      "text/plain": [
       "review    3\n",
       "rating    0\n",
       "dtype: int64"
      ]
     },
     "execution_count": 25,
     "metadata": {},
     "output_type": "execute_result"
    }
   ],
   "source": [
    "# Examine training set for NAs, verify data types, and get summary statistics\n",
    "df_train.isnull().sum()"
   ]
  },
  {
   "cell_type": "code",
   "execution_count": 26,
   "metadata": {},
   "outputs": [
    {
     "name": "stdout",
     "output_type": "stream",
     "text": [
      "<class 'pandas.core.frame.DataFrame'>\n",
      "RangeIndex: 6855 entries, 0 to 6854\n",
      "Data columns (total 2 columns):\n",
      " #   Column  Non-Null Count  Dtype \n",
      "---  ------  --------------  ----- \n",
      " 0   review  6852 non-null   object\n",
      " 1   rating  6855 non-null   int64 \n",
      "dtypes: int64(1), object(1)\n",
      "memory usage: 107.2+ KB\n"
     ]
    }
   ],
   "source": [
    "df_train.info()"
   ]
  },
  {
   "cell_type": "code",
   "execution_count": 27,
   "metadata": {},
   "outputs": [
    {
     "data": {
      "text/html": [
       "<div>\n",
       "<style scoped>\n",
       "    .dataframe tbody tr th:only-of-type {\n",
       "        vertical-align: middle;\n",
       "    }\n",
       "\n",
       "    .dataframe tbody tr th {\n",
       "        vertical-align: top;\n",
       "    }\n",
       "\n",
       "    .dataframe thead th {\n",
       "        text-align: right;\n",
       "    }\n",
       "</style>\n",
       "<table border=\"1\" class=\"dataframe\">\n",
       "  <thead>\n",
       "    <tr style=\"text-align: right;\">\n",
       "      <th></th>\n",
       "      <th>count</th>\n",
       "      <th>mean</th>\n",
       "      <th>std</th>\n",
       "      <th>min</th>\n",
       "      <th>25%</th>\n",
       "      <th>50%</th>\n",
       "      <th>75%</th>\n",
       "      <th>max</th>\n",
       "    </tr>\n",
       "  </thead>\n",
       "  <tbody>\n",
       "    <tr>\n",
       "      <th>rating</th>\n",
       "      <td>6855.0</td>\n",
       "      <td>4.207002</td>\n",
       "      <td>1.272551</td>\n",
       "      <td>1.0</td>\n",
       "      <td>4.0</td>\n",
       "      <td>5.0</td>\n",
       "      <td>5.0</td>\n",
       "      <td>5.0</td>\n",
       "    </tr>\n",
       "  </tbody>\n",
       "</table>\n",
       "</div>"
      ],
      "text/plain": [
       "         count      mean       std  min  25%  50%  75%  max\n",
       "rating  6855.0  4.207002  1.272551  1.0  4.0  5.0  5.0  5.0"
      ]
     },
     "execution_count": 27,
     "metadata": {},
     "output_type": "execute_result"
    }
   ],
   "source": [
    "# Get summary statistics of the rating column\n",
    "df_train.describe().T"
   ]
  },
  {
   "cell_type": "code",
   "execution_count": 28,
   "metadata": {},
   "outputs": [
    {
     "data": {
      "text/plain": [
       "0.0437636761487965"
      ]
     },
     "execution_count": 28,
     "metadata": {},
     "output_type": "execute_result"
    }
   ],
   "source": [
    "# perctage of missing reviews to overall data\n",
    "(3/6855)*100"
   ]
  },
  {
   "cell_type": "markdown",
   "metadata": {},
   "source": [
    "Though three reviews are blank, as no null values are present in the ratings data and these rows are less than 1% of the values of the dataset, they can be eliminated from the analysis."
   ]
  },
  {
   "cell_type": "code",
   "execution_count": 29,
   "metadata": {},
   "outputs": [
    {
     "data": {
      "text/html": [
       "<div>\n",
       "<style scoped>\n",
       "    .dataframe tbody tr th:only-of-type {\n",
       "        vertical-align: middle;\n",
       "    }\n",
       "\n",
       "    .dataframe tbody tr th {\n",
       "        vertical-align: top;\n",
       "    }\n",
       "\n",
       "    .dataframe thead th {\n",
       "        text-align: right;\n",
       "    }\n",
       "</style>\n",
       "<table border=\"1\" class=\"dataframe\">\n",
       "  <thead>\n",
       "    <tr style=\"text-align: right;\">\n",
       "      <th></th>\n",
       "      <th>title</th>\n",
       "      <th>review</th>\n",
       "      <th>review_color</th>\n",
       "      <th>user_virified</th>\n",
       "      <th>date</th>\n",
       "      <th>useful_count</th>\n",
       "      <th>config</th>\n",
       "      <th>rating</th>\n",
       "      <th>declaration_text</th>\n",
       "    </tr>\n",
       "  </thead>\n",
       "  <tbody>\n",
       "    <tr>\n",
       "      <th>0</th>\n",
       "      <td>Three Stars</td>\n",
       "      <td>Not great speakers</td>\n",
       "      <td>Black</td>\n",
       "      <td>Verified Purchase</td>\n",
       "      <td>10/3/2017</td>\n",
       "      <td>0.0</td>\n",
       "      <td>Echo Dot</td>\n",
       "      <td>3</td>\n",
       "      <td>0</td>\n",
       "    </tr>\n",
       "    <tr>\n",
       "      <th>1</th>\n",
       "      <td>Four Stars</td>\n",
       "      <td>Great little gagit</td>\n",
       "      <td>White</td>\n",
       "      <td>Verified Purchase</td>\n",
       "      <td>9/26/2017</td>\n",
       "      <td>0.0</td>\n",
       "      <td>Echo Dot</td>\n",
       "      <td>4</td>\n",
       "      <td>0</td>\n",
       "    </tr>\n",
       "    <tr>\n",
       "      <th>2</th>\n",
       "      <td>Awesome!</td>\n",
       "      <td>Awesome 👏🏽</td>\n",
       "      <td>White</td>\n",
       "      <td>Verified Purchase</td>\n",
       "      <td>9/8/2017</td>\n",
       "      <td>0.0</td>\n",
       "      <td>Echo Dot</td>\n",
       "      <td>5</td>\n",
       "      <td>0</td>\n",
       "    </tr>\n",
       "    <tr>\n",
       "      <th>3</th>\n",
       "      <td>Five Stars</td>\n",
       "      <td>Love my Echo</td>\n",
       "      <td>Black</td>\n",
       "      <td>Verified Purchase</td>\n",
       "      <td>10/19/2017</td>\n",
       "      <td>0.0</td>\n",
       "      <td>Echo Dot</td>\n",
       "      <td>5</td>\n",
       "      <td>0</td>\n",
       "    </tr>\n",
       "    <tr>\n",
       "      <th>4</th>\n",
       "      <td>Five Stars</td>\n",
       "      <td>Great device</td>\n",
       "      <td>Black</td>\n",
       "      <td>Verified Purchase</td>\n",
       "      <td>9/17/2017</td>\n",
       "      <td>0.0</td>\n",
       "      <td>Echo Dot</td>\n",
       "      <td>5</td>\n",
       "      <td>0</td>\n",
       "    </tr>\n",
       "  </tbody>\n",
       "</table>\n",
       "</div>"
      ],
      "text/plain": [
       "         title              review review_color      user_virified  \\\n",
       "0  Three Stars  Not great speakers        Black  Verified Purchase   \n",
       "1   Four Stars  Great little gagit        White  Verified Purchase   \n",
       "2     Awesome!          Awesome 👏🏽        White  Verified Purchase   \n",
       "3   Five Stars        Love my Echo        Black  Verified Purchase   \n",
       "4   Five Stars        Great device        Black  Verified Purchase   \n",
       "\n",
       "         date  useful_count    config  rating declaration_text  \n",
       "0   10/3/2017           0.0  Echo Dot       3                0  \n",
       "1   9/26/2017           0.0  Echo Dot       4                0  \n",
       "2    9/8/2017           0.0  Echo Dot       5                0  \n",
       "3  10/19/2017           0.0  Echo Dot       5                0  \n",
       "4   9/17/2017           0.0  Echo Dot       5                0  "
      ]
     },
     "execution_count": 29,
     "metadata": {},
     "output_type": "execute_result"
    }
   ],
   "source": [
    "# Drop url column and rename columns\n",
    "df_train_raw = df_train_raw.drop(columns = ['Pageurl'])\n",
    "df_train_raw.columns = ['title', 'review', 'review_color', 'user_virified', 'date', \n",
    "                        'useful_count', 'config', 'rating', 'declaration_text']\n",
    "df_train_raw.fillna(0, inplace=True)\n",
    "df_train_raw.head()"
   ]
  },
  {
   "cell_type": "code",
   "execution_count": 30,
   "metadata": {},
   "outputs": [
    {
     "data": {
      "text/plain": [
       "Black    5410\n",
       "White    1445\n",
       "Name: review_color, dtype: int64"
      ]
     },
     "execution_count": 30,
     "metadata": {},
     "output_type": "execute_result"
    }
   ],
   "source": [
    "df_train_raw['review_color'].value_counts()"
   ]
  },
  {
   "cell_type": "code",
   "execution_count": 31,
   "metadata": {},
   "outputs": [
    {
     "data": {
      "text/plain": [
       "Echo Dot                   6854\n",
       "Echo Dot + Vaux Speaker       1\n",
       "Name: config, dtype: int64"
      ]
     },
     "execution_count": 31,
     "metadata": {},
     "output_type": "execute_result"
    }
   ],
   "source": [
    "df_train_raw['config'].value_counts()"
   ]
  },
  {
   "cell_type": "markdown",
   "metadata": {},
   "source": [
    "The majority of the reviews are about Echo Dot device and only one review is about Echo Dot + Vaux Speaker. As the Vaux speaker is just a combination speaker and battery base accessory to the Echo Dot, it can be included in evaluation as an Echo Dot."
   ]
  },
  {
   "cell_type": "code",
   "execution_count": 32,
   "metadata": {},
   "outputs": [
    {
     "data": {
      "text/plain": [
       "0.0      6827\n",
       "2.0        22\n",
       "3.0         4\n",
       "284.0       1\n",
       "138.0       1\n",
       "Name: useful_count, dtype: int64"
      ]
     },
     "execution_count": 32,
     "metadata": {},
     "output_type": "execute_result"
    }
   ],
   "source": [
    "df_train_raw['useful_count'].value_counts()"
   ]
  },
  {
   "cell_type": "markdown",
   "metadata": {},
   "source": [
    "Only 28 reviews out of 6855 were upvoted (marked as useful) by other users."
   ]
  },
  {
   "cell_type": "code",
   "execution_count": 34,
   "metadata": {},
   "outputs": [],
   "source": [
    "# Convert date column to datetime format\n",
    "df_train_raw['date'] = pd.to_datetime(df_train_raw['date'])\n",
    "\n",
    "# Extract year and month-day\n",
    "df_train_raw['year'] = df_train_raw['date'].dt.year\n",
    "df_train_raw['mm-dd'] = df_train_raw['date'].dt.strftime('%m-%d')"
   ]
  },
  {
   "cell_type": "code",
   "execution_count": 35,
   "metadata": {},
   "outputs": [
    {
     "data": {
      "text/html": [
       "<div>\n",
       "<style scoped>\n",
       "    .dataframe tbody tr th:only-of-type {\n",
       "        vertical-align: middle;\n",
       "    }\n",
       "\n",
       "    .dataframe tbody tr th {\n",
       "        vertical-align: top;\n",
       "    }\n",
       "\n",
       "    .dataframe thead th {\n",
       "        text-align: right;\n",
       "    }\n",
       "</style>\n",
       "<table border=\"1\" class=\"dataframe\">\n",
       "  <thead>\n",
       "    <tr style=\"text-align: right;\">\n",
       "      <th></th>\n",
       "      <th>title</th>\n",
       "      <th>review</th>\n",
       "      <th>review_color</th>\n",
       "      <th>user_virified</th>\n",
       "      <th>date</th>\n",
       "      <th>useful_count</th>\n",
       "      <th>config</th>\n",
       "      <th>rating</th>\n",
       "      <th>declaration_text</th>\n",
       "      <th>year</th>\n",
       "      <th>mm-dd</th>\n",
       "    </tr>\n",
       "  </thead>\n",
       "  <tbody>\n",
       "    <tr>\n",
       "      <th>0</th>\n",
       "      <td>Three Stars</td>\n",
       "      <td>Not great speakers</td>\n",
       "      <td>Black</td>\n",
       "      <td>Verified Purchase</td>\n",
       "      <td>2017-10-03</td>\n",
       "      <td>0.0</td>\n",
       "      <td>Echo Dot</td>\n",
       "      <td>3</td>\n",
       "      <td>0</td>\n",
       "      <td>2017</td>\n",
       "      <td>10-03</td>\n",
       "    </tr>\n",
       "    <tr>\n",
       "      <th>1</th>\n",
       "      <td>Four Stars</td>\n",
       "      <td>Great little gagit</td>\n",
       "      <td>White</td>\n",
       "      <td>Verified Purchase</td>\n",
       "      <td>2017-09-26</td>\n",
       "      <td>0.0</td>\n",
       "      <td>Echo Dot</td>\n",
       "      <td>4</td>\n",
       "      <td>0</td>\n",
       "      <td>2017</td>\n",
       "      <td>09-26</td>\n",
       "    </tr>\n",
       "    <tr>\n",
       "      <th>2</th>\n",
       "      <td>Awesome!</td>\n",
       "      <td>Awesome 👏🏽</td>\n",
       "      <td>White</td>\n",
       "      <td>Verified Purchase</td>\n",
       "      <td>2017-09-08</td>\n",
       "      <td>0.0</td>\n",
       "      <td>Echo Dot</td>\n",
       "      <td>5</td>\n",
       "      <td>0</td>\n",
       "      <td>2017</td>\n",
       "      <td>09-08</td>\n",
       "    </tr>\n",
       "    <tr>\n",
       "      <th>3</th>\n",
       "      <td>Five Stars</td>\n",
       "      <td>Love my Echo</td>\n",
       "      <td>Black</td>\n",
       "      <td>Verified Purchase</td>\n",
       "      <td>2017-10-19</td>\n",
       "      <td>0.0</td>\n",
       "      <td>Echo Dot</td>\n",
       "      <td>5</td>\n",
       "      <td>0</td>\n",
       "      <td>2017</td>\n",
       "      <td>10-19</td>\n",
       "    </tr>\n",
       "    <tr>\n",
       "      <th>4</th>\n",
       "      <td>Five Stars</td>\n",
       "      <td>Great device</td>\n",
       "      <td>Black</td>\n",
       "      <td>Verified Purchase</td>\n",
       "      <td>2017-09-17</td>\n",
       "      <td>0.0</td>\n",
       "      <td>Echo Dot</td>\n",
       "      <td>5</td>\n",
       "      <td>0</td>\n",
       "      <td>2017</td>\n",
       "      <td>09-17</td>\n",
       "    </tr>\n",
       "  </tbody>\n",
       "</table>\n",
       "</div>"
      ],
      "text/plain": [
       "         title              review review_color      user_virified       date  \\\n",
       "0  Three Stars  Not great speakers        Black  Verified Purchase 2017-10-03   \n",
       "1   Four Stars  Great little gagit        White  Verified Purchase 2017-09-26   \n",
       "2     Awesome!          Awesome 👏🏽        White  Verified Purchase 2017-09-08   \n",
       "3   Five Stars        Love my Echo        Black  Verified Purchase 2017-10-19   \n",
       "4   Five Stars        Great device        Black  Verified Purchase 2017-09-17   \n",
       "\n",
       "   useful_count    config  rating declaration_text  year  mm-dd  \n",
       "0           0.0  Echo Dot       3                0  2017  10-03  \n",
       "1           0.0  Echo Dot       4                0  2017  09-26  \n",
       "2           0.0  Echo Dot       5                0  2017  09-08  \n",
       "3           0.0  Echo Dot       5                0  2017  10-19  \n",
       "4           0.0  Echo Dot       5                0  2017  09-17  "
      ]
     },
     "execution_count": 35,
     "metadata": {},
     "output_type": "execute_result"
    }
   ],
   "source": [
    "df_train_raw.head()"
   ]
  },
  {
   "cell_type": "code",
   "execution_count": 36,
   "metadata": {},
   "outputs": [
    {
     "data": {
      "text/plain": [
       "array([2017])"
      ]
     },
     "execution_count": 36,
     "metadata": {},
     "output_type": "execute_result"
    }
   ],
   "source": [
    "df_train_raw['year'].unique()"
   ]
  },
  {
   "cell_type": "markdown",
   "metadata": {},
   "source": [
    "Reviews from the training dataset were collected in September and October 2017"
   ]
  },
  {
   "cell_type": "code",
   "execution_count": 37,
   "metadata": {},
   "outputs": [
    {
     "data": {
      "image/png": "[encoded data removed]",
      "text/plain": [
       "<Figure size 864x360 with 1 Axes>"
      ]
     },
     "metadata": {
      "needs_background": "light"
     },
     "output_type": "display_data"
    }
   ],
   "source": [
    "fig = plt.figure(figsize=(12,5))\n",
    "df_train_raw['mm-dd'].value_counts().sort_index().plot(kind = 'bar')\n",
    "plt.ylabel(\"Reviews count\")\n",
    "plt.title(\"Count of reviews by date, year 2017\")\n",
    "plt.savefig('img/2017-reviews_by_date.png', dpi=100)\n",
    "plt.show()\n"
   ]
  },
  {
   "cell_type": "code",
   "execution_count": 38,
   "metadata": {},
   "outputs": [
    {
     "data": {
      "image/png": "[encoded data removed]",
      "text/plain": [
       "<Figure size 504x360 with 1 Axes>"
      ]
     },
     "metadata": {
      "needs_background": "light"
     },
     "output_type": "display_data"
    }
   ],
   "source": [
    "fig = plt.figure(figsize=(7,5))\n",
    "df_train_raw['rating'].value_counts().sort_index().plot(kind = 'bar')\n",
    "plt.ylabel(\"Reviews count\")\n",
    "plt.title(\"Ratings distribution, training dataset\")\n",
    "plt.savefig('img/2017-ratings_distribution.png', dpi=100)\n",
    "plt.show()"
   ]
  },
  {
   "cell_type": "markdown",
   "metadata": {},
   "source": [
    "People mostly leave positive reviews about Echo Dot."
   ]
  },
  {
   "cell_type": "markdown",
   "metadata": {},
   "source": [
    "### Test Data Amazon Alexa Reviews"
   ]
  },
  {
   "cell_type": "code",
   "execution_count": 39,
   "metadata": {},
   "outputs": [
    {
     "data": {
      "text/html": [
       "<div>\n",
       "<style scoped>\n",
       "    .dataframe tbody tr th:only-of-type {\n",
       "        vertical-align: middle;\n",
       "    }\n",
       "\n",
       "    .dataframe tbody tr th {\n",
       "        vertical-align: top;\n",
       "    }\n",
       "\n",
       "    .dataframe thead th {\n",
       "        text-align: right;\n",
       "    }\n",
       "</style>\n",
       "<table border=\"1\" class=\"dataframe\">\n",
       "  <thead>\n",
       "    <tr style=\"text-align: right;\">\n",
       "      <th></th>\n",
       "      <th>rating</th>\n",
       "      <th>date</th>\n",
       "      <th>variation</th>\n",
       "      <th>verified_reviews</th>\n",
       "      <th>feedback</th>\n",
       "    </tr>\n",
       "  </thead>\n",
       "  <tbody>\n",
       "    <tr>\n",
       "      <th>0</th>\n",
       "      <td>5</td>\n",
       "      <td>31-Jul-18</td>\n",
       "      <td>Charcoal Fabric</td>\n",
       "      <td>Love my Echo!</td>\n",
       "      <td>1</td>\n",
       "    </tr>\n",
       "    <tr>\n",
       "      <th>1</th>\n",
       "      <td>5</td>\n",
       "      <td>31-Jul-18</td>\n",
       "      <td>Charcoal Fabric</td>\n",
       "      <td>Loved it!</td>\n",
       "      <td>1</td>\n",
       "    </tr>\n",
       "    <tr>\n",
       "      <th>2</th>\n",
       "      <td>4</td>\n",
       "      <td>31-Jul-18</td>\n",
       "      <td>Walnut Finish</td>\n",
       "      <td>Sometimes while playing a game, you can answer...</td>\n",
       "      <td>1</td>\n",
       "    </tr>\n",
       "    <tr>\n",
       "      <th>3</th>\n",
       "      <td>5</td>\n",
       "      <td>31-Jul-18</td>\n",
       "      <td>Charcoal Fabric</td>\n",
       "      <td>I have had a lot of fun with this thing. My 4 ...</td>\n",
       "      <td>1</td>\n",
       "    </tr>\n",
       "    <tr>\n",
       "      <th>4</th>\n",
       "      <td>5</td>\n",
       "      <td>31-Jul-18</td>\n",
       "      <td>Charcoal Fabric</td>\n",
       "      <td>Music</td>\n",
       "      <td>1</td>\n",
       "    </tr>\n",
       "  </tbody>\n",
       "</table>\n",
       "</div>"
      ],
      "text/plain": [
       "   rating       date         variation  \\\n",
       "0       5  31-Jul-18  Charcoal Fabric    \n",
       "1       5  31-Jul-18  Charcoal Fabric    \n",
       "2       4  31-Jul-18    Walnut Finish    \n",
       "3       5  31-Jul-18  Charcoal Fabric    \n",
       "4       5  31-Jul-18  Charcoal Fabric    \n",
       "\n",
       "                                    verified_reviews  feedback  \n",
       "0                                      Love my Echo!         1  \n",
       "1                                          Loved it!         1  \n",
       "2  Sometimes while playing a game, you can answer...         1  \n",
       "3  I have had a lot of fun with this thing. My 4 ...         1  \n",
       "4                                              Music         1  "
      ]
     },
     "execution_count": 39,
     "metadata": {},
     "output_type": "execute_result"
    }
   ],
   "source": [
    "df_test_raw.head()"
   ]
  },
  {
   "cell_type": "code",
   "execution_count": 40,
   "metadata": {},
   "outputs": [],
   "source": [
    "df_test = df_test_raw[['verified_reviews', 'rating']]\n",
    "df_test.columns = ['review', 'rating']"
   ]
  },
  {
   "cell_type": "code",
   "execution_count": 42,
   "metadata": {},
   "outputs": [
    {
     "data": {
      "text/html": [
       "<div>\n",
       "<style scoped>\n",
       "    .dataframe tbody tr th:only-of-type {\n",
       "        vertical-align: middle;\n",
       "    }\n",
       "\n",
       "    .dataframe tbody tr th {\n",
       "        vertical-align: top;\n",
       "    }\n",
       "\n",
       "    .dataframe thead th {\n",
       "        text-align: right;\n",
       "    }\n",
       "</style>\n",
       "<table border=\"1\" class=\"dataframe\">\n",
       "  <thead>\n",
       "    <tr style=\"text-align: right;\">\n",
       "      <th></th>\n",
       "      <th>review</th>\n",
       "      <th>rating</th>\n",
       "    </tr>\n",
       "  </thead>\n",
       "  <tbody>\n",
       "    <tr>\n",
       "      <th>0</th>\n",
       "      <td>Love my Echo!</td>\n",
       "      <td>5</td>\n",
       "    </tr>\n",
       "    <tr>\n",
       "      <th>1</th>\n",
       "      <td>Loved it!</td>\n",
       "      <td>5</td>\n",
       "    </tr>\n",
       "    <tr>\n",
       "      <th>2</th>\n",
       "      <td>Sometimes while playing a game, you can answer...</td>\n",
       "      <td>4</td>\n",
       "    </tr>\n",
       "    <tr>\n",
       "      <th>3</th>\n",
       "      <td>I have had a lot of fun with this thing. My 4 ...</td>\n",
       "      <td>5</td>\n",
       "    </tr>\n",
       "    <tr>\n",
       "      <th>4</th>\n",
       "      <td>Music</td>\n",
       "      <td>5</td>\n",
       "    </tr>\n",
       "  </tbody>\n",
       "</table>\n",
       "</div>"
      ],
      "text/plain": [
       "                                              review  rating\n",
       "0                                      Love my Echo!       5\n",
       "1                                          Loved it!       5\n",
       "2  Sometimes while playing a game, you can answer...       4\n",
       "3  I have had a lot of fun with this thing. My 4 ...       5\n",
       "4                                              Music       5"
      ]
     },
     "execution_count": 42,
     "metadata": {},
     "output_type": "execute_result"
    }
   ],
   "source": [
    "df_test.head()"
   ]
  },
  {
   "cell_type": "code",
   "execution_count": 43,
   "metadata": {},
   "outputs": [
    {
     "data": {
      "text/plain": [
       "(3150, 2)"
      ]
     },
     "execution_count": 43,
     "metadata": {},
     "output_type": "execute_result"
    }
   ],
   "source": [
    "df_test.shape"
   ]
  },
  {
   "cell_type": "code",
   "execution_count": 44,
   "metadata": {},
   "outputs": [
    {
     "data": {
      "text/html": [
       "<div>\n",
       "<style scoped>\n",
       "    .dataframe tbody tr th:only-of-type {\n",
       "        vertical-align: middle;\n",
       "    }\n",
       "\n",
       "    .dataframe tbody tr th {\n",
       "        vertical-align: top;\n",
       "    }\n",
       "\n",
       "    .dataframe thead th {\n",
       "        text-align: right;\n",
       "    }\n",
       "</style>\n",
       "<table border=\"1\" class=\"dataframe\">\n",
       "  <thead>\n",
       "    <tr style=\"text-align: right;\">\n",
       "      <th></th>\n",
       "      <th>rating</th>\n",
       "      <th>date</th>\n",
       "      <th>variation</th>\n",
       "      <th>verified_reviews</th>\n",
       "      <th>feedback</th>\n",
       "    </tr>\n",
       "  </thead>\n",
       "  <tbody>\n",
       "    <tr>\n",
       "      <th>0</th>\n",
       "      <td>5</td>\n",
       "      <td>31-Jul-18</td>\n",
       "      <td>Charcoal Fabric</td>\n",
       "      <td>Love my Echo!</td>\n",
       "      <td>1</td>\n",
       "    </tr>\n",
       "    <tr>\n",
       "      <th>1</th>\n",
       "      <td>5</td>\n",
       "      <td>31-Jul-18</td>\n",
       "      <td>Charcoal Fabric</td>\n",
       "      <td>Loved it!</td>\n",
       "      <td>1</td>\n",
       "    </tr>\n",
       "    <tr>\n",
       "      <th>2</th>\n",
       "      <td>4</td>\n",
       "      <td>31-Jul-18</td>\n",
       "      <td>Walnut Finish</td>\n",
       "      <td>Sometimes while playing a game, you can answer...</td>\n",
       "      <td>1</td>\n",
       "    </tr>\n",
       "    <tr>\n",
       "      <th>3</th>\n",
       "      <td>5</td>\n",
       "      <td>31-Jul-18</td>\n",
       "      <td>Charcoal Fabric</td>\n",
       "      <td>I have had a lot of fun with this thing. My 4 ...</td>\n",
       "      <td>1</td>\n",
       "    </tr>\n",
       "    <tr>\n",
       "      <th>4</th>\n",
       "      <td>5</td>\n",
       "      <td>31-Jul-18</td>\n",
       "      <td>Charcoal Fabric</td>\n",
       "      <td>Music</td>\n",
       "      <td>1</td>\n",
       "    </tr>\n",
       "  </tbody>\n",
       "</table>\n",
       "</div>"
      ],
      "text/plain": [
       "   rating       date         variation  \\\n",
       "0       5  31-Jul-18  Charcoal Fabric    \n",
       "1       5  31-Jul-18  Charcoal Fabric    \n",
       "2       4  31-Jul-18    Walnut Finish    \n",
       "3       5  31-Jul-18  Charcoal Fabric    \n",
       "4       5  31-Jul-18  Charcoal Fabric    \n",
       "\n",
       "                                    verified_reviews  feedback  \n",
       "0                                      Love my Echo!         1  \n",
       "1                                          Loved it!         1  \n",
       "2  Sometimes while playing a game, you can answer...         1  \n",
       "3  I have had a lot of fun with this thing. My 4 ...         1  \n",
       "4                                              Music         1  "
      ]
     },
     "execution_count": 44,
     "metadata": {},
     "output_type": "execute_result"
    }
   ],
   "source": [
    "df_test_raw.head()"
   ]
  },
  {
   "cell_type": "code",
   "execution_count": 45,
   "metadata": {},
   "outputs": [
    {
     "data": {
      "text/plain": [
       "(3150, 5)"
      ]
     },
     "execution_count": 45,
     "metadata": {},
     "output_type": "execute_result"
    }
   ],
   "source": [
    "df_test_raw.shape"
   ]
  },
  {
   "cell_type": "code",
   "execution_count": 46,
   "metadata": {},
   "outputs": [
    {
     "data": {
      "image/png": "[encoded data removed]",
      "text/plain": [
       "<Figure size 432x288 with 1 Axes>"
      ]
     },
     "metadata": {
      "needs_background": "light"
     },
     "output_type": "display_data"
    }
   ],
   "source": [
    "df_test_raw['variation'].value_counts().plot(kind = 'barh')\n",
    "plt.xlabel(\"Reviews count\")\n",
    "plt.title(\"Distribution of the reviews by device\")\n",
    "plt.savefig('img/2018-reviews_by_device.png', dpi=100)\n",
    "plt.show()"
   ]
  },
  {
   "cell_type": "markdown",
   "metadata": {},
   "source": [
    "The reviews in the test dataset are about different variations of Echo Dot device and other devices like Fire TV Stick. The most popular device is Black Dot. As finish variations are physical characteristic choice of the device and not Alexa, we will not consider the difference in finishes; however, we will eliminate the Fire TV Stick from this analysis."
   ]
  },
  {
   "cell_type": "code",
   "execution_count": 47,
   "metadata": {},
   "outputs": [],
   "source": [
    "# Convert date column to datetime format\n",
    "df_test_raw['date'] = pd.to_datetime(df_test_raw['date'])\n",
    "\n",
    "# Extract year and month-day\n",
    "df_test_raw['year'] = df_test_raw['date'].dt.year\n",
    "df_test_raw['mm-dd'] = df_test_raw['date'].dt.strftime('%m-%d')"
   ]
  },
  {
   "cell_type": "code",
   "execution_count": 48,
   "metadata": {},
   "outputs": [
    {
     "data": {
      "text/html": [
       "<div>\n",
       "<style scoped>\n",
       "    .dataframe tbody tr th:only-of-type {\n",
       "        vertical-align: middle;\n",
       "    }\n",
       "\n",
       "    .dataframe tbody tr th {\n",
       "        vertical-align: top;\n",
       "    }\n",
       "\n",
       "    .dataframe thead th {\n",
       "        text-align: right;\n",
       "    }\n",
       "</style>\n",
       "<table border=\"1\" class=\"dataframe\">\n",
       "  <thead>\n",
       "    <tr style=\"text-align: right;\">\n",
       "      <th></th>\n",
       "      <th>rating</th>\n",
       "      <th>date</th>\n",
       "      <th>variation</th>\n",
       "      <th>verified_reviews</th>\n",
       "      <th>feedback</th>\n",
       "      <th>year</th>\n",
       "      <th>mm-dd</th>\n",
       "    </tr>\n",
       "  </thead>\n",
       "  <tbody>\n",
       "    <tr>\n",
       "      <th>0</th>\n",
       "      <td>5</td>\n",
       "      <td>2018-07-31</td>\n",
       "      <td>Charcoal Fabric</td>\n",
       "      <td>Love my Echo!</td>\n",
       "      <td>1</td>\n",
       "      <td>2018</td>\n",
       "      <td>07-31</td>\n",
       "    </tr>\n",
       "    <tr>\n",
       "      <th>1</th>\n",
       "      <td>5</td>\n",
       "      <td>2018-07-31</td>\n",
       "      <td>Charcoal Fabric</td>\n",
       "      <td>Loved it!</td>\n",
       "      <td>1</td>\n",
       "      <td>2018</td>\n",
       "      <td>07-31</td>\n",
       "    </tr>\n",
       "    <tr>\n",
       "      <th>2</th>\n",
       "      <td>4</td>\n",
       "      <td>2018-07-31</td>\n",
       "      <td>Walnut Finish</td>\n",
       "      <td>Sometimes while playing a game, you can answer...</td>\n",
       "      <td>1</td>\n",
       "      <td>2018</td>\n",
       "      <td>07-31</td>\n",
       "    </tr>\n",
       "    <tr>\n",
       "      <th>3</th>\n",
       "      <td>5</td>\n",
       "      <td>2018-07-31</td>\n",
       "      <td>Charcoal Fabric</td>\n",
       "      <td>I have had a lot of fun with this thing. My 4 ...</td>\n",
       "      <td>1</td>\n",
       "      <td>2018</td>\n",
       "      <td>07-31</td>\n",
       "    </tr>\n",
       "    <tr>\n",
       "      <th>4</th>\n",
       "      <td>5</td>\n",
       "      <td>2018-07-31</td>\n",
       "      <td>Charcoal Fabric</td>\n",
       "      <td>Music</td>\n",
       "      <td>1</td>\n",
       "      <td>2018</td>\n",
       "      <td>07-31</td>\n",
       "    </tr>\n",
       "  </tbody>\n",
       "</table>\n",
       "</div>"
      ],
      "text/plain": [
       "   rating       date         variation  \\\n",
       "0       5 2018-07-31  Charcoal Fabric    \n",
       "1       5 2018-07-31  Charcoal Fabric    \n",
       "2       4 2018-07-31    Walnut Finish    \n",
       "3       5 2018-07-31  Charcoal Fabric    \n",
       "4       5 2018-07-31  Charcoal Fabric    \n",
       "\n",
       "                                    verified_reviews  feedback  year  mm-dd  \n",
       "0                                      Love my Echo!         1  2018  07-31  \n",
       "1                                          Loved it!         1  2018  07-31  \n",
       "2  Sometimes while playing a game, you can answer...         1  2018  07-31  \n",
       "3  I have had a lot of fun with this thing. My 4 ...         1  2018  07-31  \n",
       "4                                              Music         1  2018  07-31  "
      ]
     },
     "execution_count": 48,
     "metadata": {},
     "output_type": "execute_result"
    }
   ],
   "source": [
    "df_test_raw.head()"
   ]
  },
  {
   "cell_type": "code",
   "execution_count": 49,
   "metadata": {},
   "outputs": [
    {
     "data": {
      "text/plain": [
       "array([2018])"
      ]
     },
     "execution_count": 49,
     "metadata": {},
     "output_type": "execute_result"
    }
   ],
   "source": [
    "df_test_raw['year'].unique()"
   ]
  },
  {
   "cell_type": "markdown",
   "metadata": {},
   "source": [
    "Reviews from the test dataset were collected in 2018. The majority of reviews were collected in June 2018."
   ]
  },
  {
   "cell_type": "code",
   "execution_count": 50,
   "metadata": {},
   "outputs": [
    {
     "data": {
      "image/png": "[encoded data removed]",
      "text/plain": [
       "<Figure size 864x360 with 1 Axes>"
      ]
     },
     "metadata": {
      "needs_background": "light"
     },
     "output_type": "display_data"
    }
   ],
   "source": [
    "fig = plt.figure(figsize=(12,5))\n",
    "df_test_raw['mm-dd'].value_counts().sort_index().plot(kind = 'bar')\n",
    "plt.tick_params(axis='x', which='both', labelsize=9)\n",
    "plt.ylabel(\"Reviews count\")\n",
    "plt.title(\"Count of reviews by date, year 2018\")\n",
    "plt.savefig('img/2018-reviews_by_date.png', dpi=100)\n",
    "plt.show()"
   ]
  },
  {
   "cell_type": "code",
   "execution_count": 51,
   "metadata": {},
   "outputs": [
    {
     "data": {
      "image/png": "[encoded data removed]",
      "text/plain": [
       "<Figure size 504x360 with 1 Axes>"
      ]
     },
     "metadata": {
      "needs_background": "light"
     },
     "output_type": "display_data"
    }
   ],
   "source": [
    "fig = plt.figure(figsize=(7,5))\n",
    "df_test_raw['rating'].value_counts().sort_index().plot(kind = 'bar')\n",
    "plt.ylabel(\"Reviews count\")\n",
    "plt.title(\"Ratings distribution, test dataset\")\n",
    "plt.savefig('img/2018-ratings_distribution.png', dpi=100)\n",
    "plt.show()"
   ]
  },
  {
   "cell_type": "markdown",
   "metadata": {},
   "source": [
    "Rating distribution is very similar to the data from 2017."
   ]
  },
  {
   "cell_type": "markdown",
   "metadata": {},
   "source": [
    "## Reviews cleaning"
   ]
  },
  {
   "cell_type": "code",
   "execution_count": 33,
   "metadata": {},
   "outputs": [],
   "source": [
    "def preprocess_reviews(df_raw, stop_words: set, eng_words: set):\n",
    "    \"\"\"Perform lemmatization, remove stopwords, punctuation, non-english words.\"\"\"\n",
    "    def delete_words(row): \n",
    "        \"\"\"Delete stop words, punctuation, and non-english words from a review.\"\"\"\n",
    "        row = row.split()\n",
    "        result_row = [word for word in row \n",
    "                      if word not in stop_words\n",
    "                      and word in eng_words]\n",
    "        return result_row\n",
    "    \n",
    "    df = df_raw.copy()\n",
    "    \n",
    "    # Lowercase reviews\n",
    "    df['review'] = df.apply(lambda row: str(row['review']).lower(), axis=1)\n",
    "    \n",
    "    # Lemmatization\n",
    "    df['review'] = df['review'].apply(lambda row: \" \".join([w.lemma_ for w in spacy_en(row)]))\n",
    "    \n",
    "    # Delete stop words and non-english words\n",
    "    df['review'] = df['review'].apply(delete_words)\n",
    "    \n",
    "    # Join list of tokens\n",
    "    df['review'] = df['review'].apply(lambda row: \" \".join(row))\n",
    "    \n",
    "    return df"
   ]
  },
  {
   "cell_type": "code",
   "execution_count": 34,
   "metadata": {},
   "outputs": [],
   "source": [
    "# Load stop words\n",
    "stop_words = spacy_en.Defaults.stop_words\n",
    "\n",
    "# Add punctuation to stop words\n",
    "punctuation = string.punctuation\n",
    "stop_words.update(set(punctuation))\n",
    "\n",
    "# Add name of device to stop words\n",
    "stop_words.add('echo')\n",
    "stop_words.add('dot')\n",
    "\n",
    "\n",
    "# Load english words\n",
    "eng_words = set(nltk.corpus.words.words())"
   ]
  },
  {
   "cell_type": "code",
   "execution_count": 35,
   "metadata": {},
   "outputs": [
    {
     "name": "stdout",
     "output_type": "stream",
     "text": [
      "CPU times: user 1min 38s, sys: 321 ms, total: 1min 38s\n",
      "Wall time: 1min 38s\n"
     ]
    }
   ],
   "source": [
    "%%time\n",
    "df_train_clean = preprocess_reviews(df_train, stop_words, eng_words)\n",
    "df_test_clean = preprocess_reviews(df_test, stop_words, eng_words)"
   ]
  },
  {
   "cell_type": "code",
   "execution_count": 38,
   "metadata": {},
   "outputs": [],
   "source": [
    "#delete empty reviews\n",
    "df_train_clean  = df_train_clean[df_train_clean['review'] != '']\n",
    "df_test_clean  = df_test_clean[df_test_clean['review'] != '']"
   ]
  },
  {
   "cell_type": "code",
   "execution_count": 41,
   "metadata": {},
   "outputs": [],
   "source": [
    "# Save preprocessed data to pickle files\n",
    "df_train_clean.to_pickle(\"data/df_train.pickle\")\n",
    "df_test_clean.to_pickle(\"data/df_test.pickle\")"
   ]
  },
  {
   "cell_type": "code",
   "execution_count": null,
   "metadata": {},
   "outputs": [],
   "source": []
  }
 ],
 "metadata": {
  "kernelspec": {
   "display_name": "Python 3",
   "language": "python",
   "name": "python3"
  },
  "language_info": {
   "codemirror_mode": {
    "name": "ipython",
    "version": 3
   },
   "file_extension": ".py",
   "mimetype": "text/x-python",
   "name": "python",
   "nbconvert_exporter": "python",
   "pygments_lexer": "ipython3",
   "version": "3.6.10"
  }
 },
 "nbformat": 4,
 "nbformat_minor": 4
}
